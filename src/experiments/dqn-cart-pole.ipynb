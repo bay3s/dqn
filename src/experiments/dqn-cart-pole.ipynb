{
 "cells": [
  {
   "cell_type": "code",
   "execution_count": 26,
   "id": "c4673668",
   "metadata": {},
   "outputs": [],
   "source": [
    "import os\n",
    "import sys\n",
    "import numpy as np\n",
    "from tqdm import tqdm\n",
    "from copy import deepcopy\n",
    "import matplotlib.pyplot as plt\n",
    "import random\n",
    "\n",
    "import gym\n",
    "import torch\n",
    "import torch.nn as nn\n",
    "import torch.optim as optim\n",
    "\n",
    "# configure module & syspath\n",
    "module_path = os.path.abspath(os.path.join('../../'))\n",
    "if module_path not in sys.path:\n",
    "    sys.path.append(module_path)\n",
    "\n",
    "from src.agent import Policy\n",
    "from src.agent.replay_memory import ReplayMemory, Transition"
   ]
  },
  {
   "cell_type": "code",
   "execution_count": 27,
   "id": "f8a6b047",
   "metadata": {},
   "outputs": [],
   "source": [
    "max_episodes = 10_000\n",
    "max_trajectory_length = 100\n",
    "gamma = 0.99\n",
    "\n",
    "epsilon = 1.\n",
    "epsilon_annealing = 0.9 / 1_000_000\n",
    "\n",
    "batch_size = 128\n",
    "target_update_frequency = 25"
   ]
  },
  {
   "cell_type": "code",
   "execution_count": 28,
   "id": "612814e9",
   "metadata": {},
   "outputs": [],
   "source": [
    "env = gym.make('CartPole-v1')\n",
    "observation_space = env.observation_space\n",
    "action_space = env.action_space"
   ]
  },
  {
   "cell_type": "code",
   "execution_count": 29,
   "id": "e1ef3e1f",
   "metadata": {},
   "outputs": [],
   "source": [
    "# initialize policy network\n",
    "policy_net = Policy(observation_space.shape[0], action_space.n)\n",
    "\n",
    "# initialize the target network since DQN learns off-policy\n",
    "target_net = Policy(observation_space.shape[0], action_space.n)\n",
    "target_net.load_state_dict(policy_net.state_dict())\n",
    "target_net.eval()\n",
    "\n",
    "# optimizer for the policy network\n",
    "optimizer = optim.RMSprop(policy_net.parameters(), lr=0.01)\n",
    "\n",
    "# replay memory to keep track of past states & actions.\n",
    "replay_memory = ReplayMemory(capacity=1_000)\n",
    "episode_durations = list()"
   ]
  },
  {
   "cell_type": "code",
   "execution_count": 33,
   "id": "8a728155",
   "metadata": {
    "scrolled": false
   },
   "outputs": [
    {
     "data": {
      "text/plain": [
       "[<matplotlib.lines.Line2D at 0x12e3e1c40>]"
      ]
     },
     "execution_count": 33,
     "metadata": {},
     "output_type": "execute_result"
    },
    {
     "data": {
      "image/png": "[encoded data removed]",
      "text/plain": [
       "<Figure size 432x288 with 1 Axes>"
      ]
     },
     "metadata": {
      "needs_background": "light"
     },
     "output_type": "display_data"
    }
   ],
   "source": [
    "for i_episode in range(1, max_episodes):\n",
    "    obs, _ = env.reset()\n",
    "    state = torch.from_numpy(obs).unsqueeze(0)\n",
    "\n",
    "    is_done = False\n",
    "    trajectory_length = 0\n",
    "\n",
    "    for t in range(max_trajectory_length):\n",
    "        if is_done:\n",
    "            break\n",
    "\n",
    "        if np.random.random() < epsilon:\n",
    "            action = torch.tensor([[random.randrange(env.action_space.n)]], device='cpu', dtype=torch.long)\n",
    "        else:\n",
    "            with torch.no_grad():\n",
    "                action = policy_net(state).argmax().view(1, 1)\n",
    "\n",
    "        # take an action in the environment.\n",
    "        new_obs, reward, is_done, _, _ = env.step(action.item())\n",
    "        next_state = torch.from_numpy(new_obs).unsqueeze(0)\n",
    "        reward = torch.tensor([reward], device='cpu')\n",
    "\n",
    "        # add the current transition to the replay memory.\n",
    "        transition = Transition(state, action, reward, next_state)\n",
    "        replay_memory.add_step(transition)\n",
    "        state = next_state\n",
    "        pass\n",
    "\n",
    "        # anneal the value of epsilon as we iterate through episodes.\n",
    "        if epsilon > 0.1:\n",
    "            epsilon -= epsilon_annealing\n",
    "\n",
    "        trajectory_length = t\n",
    "        pass\n",
    "    # end of for loop\n",
    "\n",
    "    # optimize the model if we have enough samples in memory\n",
    "    if replay_memory.is_full:\n",
    "        sampled_transitions = replay_memory.sample(batch_size)\n",
    "        batch = Transition(*zip(*sampled_transitions))\n",
    "\n",
    "        # train the neural net\n",
    "        non_final_mask = torch.tensor(tuple(map(lambda s: s is not None, batch.next_state)), dtype=torch.bool)\n",
    "        non_final_next_states = torch.cat([s for s in batch.next_state if s is not None])\n",
    "\n",
    "        state_batch = torch.cat(batch.state)\n",
    "        action_batch = torch.cat(batch.action)\n",
    "        reward_batch = torch.cat(batch.reward)\n",
    "\n",
    "        # Compute Q(s_t, a) - the model computes Q(s_t), then we select the\n",
    "        # columns of actions taken. These are the actions which would've been taken\n",
    "        # for each batch state according to policy_net\n",
    "        state_action_values = policy_net(state_batch).gather(1, action_batch)\n",
    "\n",
    "        # Compute V(s_{t+1}) for all next states.\n",
    "        # Expected values of actions for non_final_next_states are computed based\n",
    "        # on the \"older\" target_net; selecting their best reward with max(1)[0].\n",
    "        # This is merged based on the mask, such that we'll have either the expected\n",
    "        # state value or 0 in case the state was final.\n",
    "        next_state_values = torch.zeros(batch_size)\n",
    "        next_state_values[non_final_mask] = target_net(non_final_next_states).max(1)[0].detach()\n",
    "\n",
    "        # Compute the expected Q values\n",
    "        expected_state_action_values = (next_state_values * gamma) + reward_batch\n",
    "\n",
    "        # compute Huber loss\n",
    "        criterion = nn.SmoothL1Loss()\n",
    "        loss = criterion(state_action_values, expected_state_action_values.unsqueeze(1))\n",
    "\n",
    "        # run the optimizer\n",
    "        optimizer.zero_grad()\n",
    "        loss.backward()\n",
    "\n",
    "        for param in policy_net.parameters():\n",
    "            param.grad.data.clamp_(-1, 1)\n",
    "\n",
    "        optimizer.step()\n",
    "        pass\n",
    "\n",
    "    if i_episode % target_update_frequency == 0:\n",
    "        target_net.load_state_dict(policy_net.state_dict())\n",
    "\n",
    "    # plot the current trajectories\n",
    "    episode_durations.append(trajectory_length)\n",
    "    pass"
   ]
  },
  {
   "cell_type": "code",
   "execution_count": 34,
   "id": "81c4c1bc",
   "metadata": {},
   "outputs": [
    {
     "data": {
      "text/plain": [
       "[<matplotlib.lines.Line2D at 0x10dcec370>]"
      ]
     },
     "execution_count": 34,
     "metadata": {},
     "output_type": "execute_result"
    },
    {
     "data": {
      "image/png": "[encoded data removed]",
      "text/plain": [
       "<Figure size 432x288 with 1 Axes>"
      ]
     },
     "metadata": {
      "needs_background": "light"
     },
     "output_type": "display_data"
    }
   ],
   "source": [
    "# end of training, plot the episode durations after training is done.\n",
    "plt.figure(2)\n",
    "plt.clf()\n",
    "plt.xlabel('Episode')\n",
    "plt.ylabel('Duration')\n",
    "plt.plot(episode_durations)"
   ]
  },
  {
   "cell_type": "code",
   "execution_count": null,
   "id": "6f89ae5b",
   "metadata": {},
   "outputs": [],
   "source": []
  }
 ],
 "metadata": {
  "kernelspec": {
   "display_name": "Python 3",
   "language": "python",
   "name": "python3"
  },
  "language_info": {
   "codemirror_mode": {
    "name": "ipython",
    "version": 3
   },
   "file_extension": ".py",
   "mimetype": "text/x-python",
   "name": "python",
   "nbconvert_exporter": "python",
   "pygments_lexer": "ipython3",
   "version": "3.9.13"
  }
 },
 "nbformat": 4,
 "nbformat_minor": 5
}
